{
 "cells": [
  {
   "cell_type": "markdown",
   "metadata": {},
   "source": [
    "Задание 1"
   ]
  },
  {
   "cell_type": "code",
   "execution_count": 7,
   "metadata": {},
   "outputs": [
    {
     "name": "stdout",
     "output_type": "stream",
     "text": [
      "дела как Привет\n",
      "дождь идет улице На\n",
      "программирование люблю Я\n"
     ]
    }
   ],
   "source": [
    "with open('file.txt', 'r') as file: # Открываем файл \n",
    "    lines = file.readlines() # Читаем строки\n",
    "for line in lines: # Обрабатываем строки\n",
    "    words = line.strip().split() # Убираем символ новой строки и делим строку на слова\n",
    "    reversed_words = ' '.join(reversed(words)) # Переворачиваем список слов\n",
    "    print(reversed_words) # Вывод"
   ]
  },
  {
   "cell_type": "markdown",
   "metadata": {},
   "source": [
    "Задание 2 "
   ]
  },
  {
   "cell_type": "code",
   "execution_count": 22,
   "metadata": {},
   "outputs": [
    {
     "name": "stdout",
     "output_type": "stream",
     "text": [
      "a2s3c1\n"
     ]
    }
   ],
   "source": [
    "def string(s):\n",
    "    result = []\n",
    "    i = 0\n",
    "    while i < len(s):\n",
    "        count = 1\n",
    "        while i + 1 < len(s) and s[i] == s[i + 1]:\n",
    "            count += 1\n",
    "            i += 1\n",
    "        result.append(f'{s[i]}{count}')\n",
    "        i += 1\n",
    "    return ''.join(result)\n",
    "text = string(input(\"введите текст\"))\n",
    "print(text)"
   ]
  },
  {
   "cell_type": "markdown",
   "metadata": {},
   "source": [
    "Задание 3"
   ]
  },
  {
   "cell_type": "code",
   "execution_count": 39,
   "metadata": {},
   "outputs": [
    {
     "name": "stdout",
     "output_type": "stream",
     "text": [
      "True\n",
      "False\n",
      "False\n"
     ]
    }
   ],
   "source": [
    "def test(s):\n",
    "    cont = {\n",
    "        ')': '(',\n",
    "        ']': '[',\n",
    "        '}': '{'\n",
    "    }\n",
    "    stack = []\n",
    "    \n",
    "    for c in s:\n",
    "        if c in cont.values():\n",
    "            stack.append(c)\n",
    "        elif c in cont.keys():\n",
    "            if not stack or cont[c] != stack.pop():\n",
    "                return False\n",
    "    \n",
    "    return not stack\n",
    "print(test(\"()[]{}\"))  # True\n",
    "print(test(\"(]\"))      # False\n",
    "print(test(\"([)]\"))    # False"
   ]
  },
  {
   "cell_type": "markdown",
   "metadata": {},
   "source": [
    "Задание 4"
   ]
  },
  {
   "cell_type": "code",
   "execution_count": 60,
   "metadata": {},
   "outputs": [
    {
     "name": "stdout",
     "output_type": "stream",
     "text": [
      "oCs$\"7Z50+TS5v*UuA#Y.7$loROu(,]Uu{pxq@?M^EU3D1mAZ#M`MbiBBgI<UVV3N=S@P<m2VK#c7%7{'Cy{oSVpC$-EHhd:$Le~\n"
     ]
    }
   ],
   "source": [
    "import random\n",
    "import string\n",
    "\n",
    "def generate_random_text(length):\n",
    "    alphabet = string.ascii_letters + string.digits + string.punctuation\n",
    "    random_text = ''.join(random.choice(alphabet) for _ in range(length))\n",
    "    return random_text\n",
    "\n",
    "N = 100  # Длина текста\n",
    "random_text = generate_random_text(N)\n",
    "print(random_text)"
   ]
  },
  {
   "cell_type": "markdown",
   "metadata": {},
   "source": [
    "Задание 5"
   ]
  },
  {
   "cell_type": "code",
   "execution_count": 64,
   "metadata": {},
   "outputs": [
    {
     "name": "stdout",
     "output_type": "stream",
     "text": [
      "Клиент Иваныч добавлен в очередь с приоритетом 2.\n",
      "Клиент Петрович добавлен в очередь с приоритетом 1.\n",
      "Клиент Сергеич добавлен в очередь с приоритетом 2.\n",
      "Клиент Петрович обслуживается.\n",
      "Клиент Петрович обслужен. Время обслуживания: 2.00 секунд.\n",
      "Клиент Иваныч обслуживается.\n",
      "Клиент Иваныч обслужен. Время обслуживания: 3.00 секунд.\n",
      "Клиент Сергеич обслуживается.\n",
      "Клиент Сергеич обслужен. Время обслуживания: 1.00 секунд.\n",
      "\n",
      "Отчёт:\n",
      "Обслужено клиентов: 3\n",
      "Общее время обслуживания: 6.00 секунд\n",
      "Среднее время обслуживания: 2.00 секунд\n",
      "\n",
      "Клиент Петрович обслуживался 2.00 секунд.\n",
      "Клиент Иваныч обслуживался 3.00 секунд.\n",
      "Клиент Сергеич обслуживался 1.00 секунд.\n"
     ]
    }
   ],
   "source": [
    "import time\n",
    "from dataclasses import dataclass\n",
    "from typing import List, Optional\n",
    "\n",
    "# Создание экземпляра очереди\n",
    "queue = ElectronicQueue()\n",
    "\n",
    "# Добавление клиентов\n",
    "queue.add_client(\"Иваныч\", 2)  # Обычный клиент\n",
    "queue.add_client(\"Петрович\", 1)  # VIP-клиент\n",
    "queue.add_client(\"Сергеич\", 2)  # Обычный клиент\n",
    "\n",
    "# Обслуживание клиентов\n",
    "client = queue.next_client()  # Петр Петров (VIP)\n",
    "time.sleep(2)                 # Симуляция времени обслуживания\n",
    "queue.finish_service(client)\n",
    "\n",
    "client = queue.next_client()  # Иван Иванов\n",
    "time.sleep(3)                 # Симуляция времени обслуживания\n",
    "queue.finish_service(client)\n",
    "\n",
    "client = queue.next_client()  # Сергей Сергеев\n",
    "time.sleep(1)                 # Симуляция времени обслуживания\n",
    "queue.finish_service(client)\n",
    "\n",
    "# Генерация отчёта\n",
    "queue.report()\n",
    "\n",
    "@dataclass\n",
    "class Client:\n",
    "    \"\"\"Класс для представления клиента.\"\"\"\n",
    "    id: str\n",
    "    priority: int  # 1 - VIP, 2 - Обычный\n",
    "    arrival_time: float = time.time()\n",
    "    served_at: Optional[float] = None\n",
    "    service_duration: Optional[float] = None\n",
    "\n",
    "    def __repr__(self):\n",
    "        return f\"<Client(id={self.id}, priority={self.priority})>\"\n",
    "\n",
    "\n",
    "class ElectronicQueue:\n",
    "    \"\"\"Класс для управления электронной очередью.\"\"\"\n",
    "    def __init__(self):\n",
    "        self.queue: List[Client] = []\n",
    "        self.served_clients: List[Client] = []\n",
    "\n",
    "    def add_client(self, client_id: str, priority: int):\n",
    "        \"\"\"Добавление нового клиента в очередь.\"\"\"\n",
    "        new_client = Client(client_id, priority)\n",
    "        self.queue.append(new_client)\n",
    "        print(f\"Клиент {client_id} добавлен в очередь с приоритетом {priority}.\")\n",
    "\n",
    "    def next_client(self) -> Optional[Client]:\n",
    "        \"\"\"Выбор следующего клиента для обслуживания исходя из приоритета.\"\"\"\n",
    "        if not self.queue:\n",
    "            return None\n",
    "\n",
    "        # Сортируем очередь по приоритету\n",
    "        self.queue.sort(key=lambda x: x.priority)\n",
    "\n",
    "        next_client = self.queue.pop(0)\n",
    "        next_client.served_at = time.time()\n",
    "        print(f\"Клиент {next_client.id} обслуживается.\")\n",
    "        return next_client\n",
    "\n",
    "    def finish_service(self, client: Client):\n",
    "        \"\"\"Завершение обслуживания клиента и обновление статистики.\"\"\"\n",
    "        client.service_duration = time.time() - client.served_at\n",
    "        self.served_clients.append(client)\n",
    "        print(f\"Клиент {client.id} обслужен. Время обслуживания: {client.service_duration:.2f} секунд.\")\n",
    "\n",
    "    def report(self):\n",
    "        \"\"\"Отчёт об обслуживании клиентов.\"\"\"\n",
    "        total_clients = len(self.served_clients)\n",
    "        total_time = sum(client.service_duration for client in self.served_clients)\n",
    "        average_time = total_time / total_clients if total_clients > 0 else 0\n",
    "\n",
    "        print(\"\\nОтчёт:\")\n",
    "        print(f\"Обслужено клиентов: {total_clients}\")\n",
    "        print(f\"Общее время обслуживания: {total_time:.2f} секунд\")\n",
    "        print(f\"Среднее время обслуживания: {average_time:.2f} секунд\\n\")\n",
    "\n",
    "        for client in self.served_clients:\n",
    "            print(f\"Клиент {client.id} обслуживался {client.service_duration:.2f} секунд.\")"
   ]
  },
  {
   "cell_type": "markdown",
   "metadata": {},
   "source": [
    "Задание 6"
   ]
  },
  {
   "cell_type": "code",
   "execution_count": 70,
   "metadata": {},
   "outputs": [
    {
     "name": "stdout",
     "output_type": "stream",
     "text": [
      "Слово 'топот' является палиндромом.\n"
     ]
    }
   ],
   "source": [
    "def is_palindrome(word):\n",
    "    return word == word[::-1]\n",
    "\n",
    "def can_be_palindrome_by_removing_one_letter(word):\n",
    "    for i in range(len(word)):\n",
    "        modified_word = word[:i] + word[i+1:]\n",
    "        if is_palindrome(modified_word):\n",
    "            return True\n",
    "    return False\n",
    "\n",
    "word = input(\"Введите слово: \")\n",
    "\n",
    "if is_palindrome(word):\n",
    "    print(f\"Слово '{word}' является палиндромом.\")\n",
    "elif can_be_palindrome_by_removing_one_letter(word):\n",
    "    print(f\"Слово '{word}' может стать палиндромом после удаления одной буквы.\")\n",
    "else:\n",
    "    print(f\"Слово '{word}' не является палиндромом и не может им стать после удаления одной буквы.\")"
   ]
  },
  {
   "cell_type": "markdown",
   "metadata": {},
   "source": [
    "Задание 7"
   ]
  },
  {
   "cell_type": "code",
   "execution_count": 74,
   "metadata": {},
   "outputs": [],
   "source": [
    "import random\n",
    "\n",
    "def remove_fragments(file_path, percentage=30):\n",
    "    with open(file_path, 'r+', encoding='utf-8') as file:\n",
    "        text = file.read()\n",
    "\n",
    "        original_length = len(text)\n",
    "        characters_to_remove = round(original_length * percentage / 100)\n",
    "\n",
    "        indices = set(random.sample(range(original_length), k=characters_to_remove))\n",
    "\n",
    "        new_text = ''.join(char if i not in indices else '.' for i, char in enumerate(text))\n",
    "\n",
    "        new_text = new_text.replace('.', '...')\n",
    "\n",
    "        file.seek(0)\n",
    "        file.write(new_text)\n",
    "        file.truncate()\n",
    "\n",
    "file_path = 'file.txt'\n",
    "remove_fragments(file_path, 30)"
   ]
  }
 ],
 "metadata": {
  "kernelspec": {
   "display_name": "base",
   "language": "python",
   "name": "python3"
  },
  "language_info": {
   "codemirror_mode": {
    "name": "ipython",
    "version": 3
   },
   "file_extension": ".py",
   "mimetype": "text/x-python",
   "name": "python",
   "nbconvert_exporter": "python",
   "pygments_lexer": "ipython3",
   "version": "3.12.4"
  }
 },
 "nbformat": 4,
 "nbformat_minor": 2
}
